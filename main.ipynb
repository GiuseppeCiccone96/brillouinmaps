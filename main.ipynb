{
 "cells": [
  {
   "cell_type": "code",
   "execution_count": null,
   "id": "ed4d75e8",
   "metadata": {
    "tags": []
   },
   "outputs": [],
   "source": [
    "import numpy as np \n",
    "%matplotlib qt\n",
    "import matplotlib as mpl\n",
    "import matplotlib.pyplot as plt\n",
    "import matplotlib.cm as cm\n",
    "from mpl_toolkits.axes_grid1 import make_axes_locatable\n",
    "import ipywidgets as widgets\n",
    "from ipyfilechooser import FileChooser\n",
    "import pandas as pd\n",
    "import os\n",
    "import warnings\n",
    "from itertools import zip_longest\n",
    "warnings.filterwarnings('ignore')"
   ]
  },
  {
   "cell_type": "markdown",
   "id": "7cd23e70-ffb3-46e4-9189-f9096d586938",
   "metadata": {},
   "source": [
    "## Preamble: Useful functions (to run)"
   ]
  },
  {
   "cell_type": "code",
   "execution_count": null,
   "id": "94977456-6b08-424c-a0fe-c59212f54b7d",
   "metadata": {},
   "outputs": [],
   "source": [
    "def clean_df(df): \n",
    "    \"\"\"Makes sure that df elements are floats and replaces\n",
    "    inf with nan for easier data manipulation.\"\"\"\n",
    "    a = df.astype(float).replace([-np.inf,+np.inf],np.nan)\n",
    "    return a"
   ]
  },
  {
   "cell_type": "markdown",
   "id": "711b886a",
   "metadata": {},
   "source": [
    "# Introduction\n",
    "This notebook allows to visualise and manipulate Brillouin Spectroscopy maps (in terms of frequency shift, $\\nu_B$ and width, $\\Delta_B$) acquired and processed using the light machinery set-up (https://lightmachinery.com/). In brief, the \"Scan_Parameters_and_Analysis.csv\" file is first imported and manipulated so that the Brillouin map ($\\nu_B$ and $\\Delta_B$) can be shown as a color map with appropriate $x$ and $y$ coordinates.\n",
    "Then, $\\nu_B$ and $\\Delta_B$  profiles are shown along both $x$ and $y$ as line plots. Finally, the possibility to isolate the background from the objects of interest (e.g., cells, spheroids etc) is given using a simple threshold or by using a mask created in python / Fiji. \n",
    " <br> \n",
    "The notebook has been made interactive via widgets to be more user friendly. A step by step workflow is summarised below: "
   ]
  },
  {
   "cell_type": "markdown",
   "id": "c943c938",
   "metadata": {},
   "source": [
    "### 1) Run cell below to upload the  \"Scan_Parameters_and_Analysis.csv\" file "
   ]
  },
  {
   "cell_type": "code",
   "execution_count": null,
   "id": "1bc6b1cf",
   "metadata": {},
   "outputs": [],
   "source": [
    "fc = FileChooser()\n",
    "display(fc)"
   ]
  },
  {
   "cell_type": "markdown",
   "id": "2011819e-772b-441a-9549-a14fff15e364",
   "metadata": {},
   "source": [
    "The cell below will display the acquired map and prints its dimensions. If you think the map looks suspicious (i.e., contains outliers), select \"Yes\" below and then choose a range of frequencies you want to restric your data to based on its 2D histogram. If the map looks ok, then the origianl data will be used!"
   ]
  },
  {
   "cell_type": "code",
   "execution_count": null,
   "id": "9069dbec-6c86-4f21-8481-e517ba4e98cb",
   "metadata": {},
   "outputs": [],
   "source": [
    "#Read data and create sub-data frame with X, Y and Shift; add columns in um (from mm)\n",
    "data = pd.read_csv(fc.selected)\n",
    "datasub = data[[\" X (mm)\", \" Y (mm)\", \" Shift (GHz)\",\" FWHM (GHz)\"]]\n",
    "datasub[\"X (um)\"]=datasub.iloc[:,0]* 1000.0\n",
    "datasub[\"Y (um)\"]=datasub.iloc[:,1]* 1000.0\n",
    "#Pivot sub-data frame so that it can be plotted as a map with correct x and y coordinates\n",
    "piv=datasub.pivot(index = \"Y (um)\",columns=\"X (um)\")\n",
    "piv=clean_df(piv)\n",
    "print(\"Pixels in y: %d\"%(piv[\" Shift (GHz)\"].shape[0]))\n",
    "print(\"Pixels in x: %d\"%(piv[\" Shift (GHz)\"].shape[1]))\n",
    "fig,ax = plt.subplots(1,2, figsize=(8,4))\n",
    "ax[0].imshow(piv[\" Shift (GHz)\"],cmap=\"viridis\",extent=[min(datasub[\"X (um)\"]),max(datasub[\"X (um)\"]),min(datasub[\"Y (um)\"]),max(datasub[\"Y (um)\"])])\n",
    "ax[1].imshow(piv[\" FWHM (GHz)\"],cmap=\"magma\",extent=[min(datasub[\"X (um)\"]),max(datasub[\"X (um)\"]),min(datasub[\"Y (um)\"]),max(datasub[\"Y (um)\"])])\n",
    "#label axes and add colorbar\n",
    "labels = [\"Shift (GHz)\",\"FWHM (GHz)\"]\n",
    "for i in ax:\n",
    "    i.set_xlabel(\"x ($\\mu$m)\")\n",
    "    i.set_ylabel(\"y ($\\mu$m)\")\n",
    "    divider = make_axes_locatable(i)\n",
    "    cax = divider.append_axes('right', size='8%', pad=0.05)\n",
    "    plt.colorbar(mappable=i.get_images()[0],ax=i,cax=cax,fraction=0.05,label=labels[ax.tolist().index(i)])\n",
    "fig.tight_layout()"
   ]
  },
  {
   "cell_type": "markdown",
   "id": "d8cc739e-320c-4ffb-b08b-b9b8d3983df7",
   "metadata": {
    "tags": []
   },
   "source": [
    "### 2) Time for python and Fiji - get out of this notebook!\n",
    "Now that you know the map's dimensions, it's time to run the python script \"yellowcrop.py\" in the \"crop_brightfield\" folder.\n",
    "This crops the brightfield image from the light machinery software around the provided yellow square (ie the area acquired via Brillouin, too): \n",
    "1. Activate brillouimaps environment;\n",
    "2. Run the script yellowcrop.py on the brightfield BMP image (python dir/yellocrop.py imagedir/image.BMP); dir is the directory where yellowcrop.py is and imagedir is the directory where image.BMP is. This saves the cropped image (in .tiff format) in the same directory as image.BMP;\n",
    "3. Open Fiji to downsize the image to the Brillouin map's dimensions and create two masks, one for the object and one for the background:\n",
    "    1. Open Fiji and load the image_cropped.tif\n",
    "    2. Manually segment the feature of interest\n",
    "    3. Create a mask (edit-> selection -> create mask)\n",
    "    4. Downsize the image to the same pixel size of the Brillouin map (Image -> scale)\n",
    "    5. Select non-interpolated pixels, ie white pixels (Image -> Adjust -> Threshold -> 255 to 255; Apply)\n",
    "    6. Make binary image (Process -> Math -> divide by 255). The image will appear black because 0 and 1 are very close, but the object is retained and can be checked by image-> adjust ->        brightness/contrast.\n",
    "    7. Save as tiff image (object.tiff)\n",
    "    8. Invert object.tiff (edit->invert) and subtract 254 to have the opposite image (background.tiff). Save the inverted tiff image\n"
   ]
  },
  {
   "cell_type": "markdown",
   "id": "396ab72e-7d5d-4a08-9d49-9ca6840822bc",
   "metadata": {},
   "source": [
    "### 3) Load the created mask, either for the object or background"
   ]
  },
  {
   "cell_type": "code",
   "execution_count": null,
   "id": "f1f4b098-ccc3-49c1-9571-42d5b9655370",
   "metadata": {},
   "outputs": [],
   "source": [
    "maskfc = FileChooser()\n",
    "display(maskfc)"
   ]
  },
  {
   "cell_type": "code",
   "execution_count": null,
   "id": "81eede4a-fb5b-4ff4-9dae-5dcf66d94f50",
   "metadata": {},
   "outputs": [],
   "source": [
    "object_mask_fiji = plt.imread(maskfc.selected)\n",
    "fig,ax = plt.subplots(1,1, figsize=(4,4))\n",
    "plt.imshow(object_mask_fiji,cmap='gray',interpolation='none')\n",
    "plt.title(\"Mask\")\n",
    "plt.show()"
   ]
  },
  {
   "cell_type": "markdown",
   "id": "3c807686",
   "metadata": {},
   "source": [
    "### 4) Run cell below to display line profiles along x and  y"
   ]
  },
  {
   "cell_type": "code",
   "execution_count": null,
   "id": "b679dc74",
   "metadata": {},
   "outputs": [],
   "source": [
    "#plot line profiles of the data along x and y\n",
    "data_shift = piv[\" Shift (GHz)\"]\n",
    "data_width = piv[\" FWHM (GHz)\"]\n",
    "#Shift\n",
    "mean_x_shift = data_shift.mean(axis=0)\n",
    "std_x_shift = data_shift.std(axis=0)\n",
    "mean_y_shift = data_shift.mean(axis=1)\n",
    "std_y_shift = data_shift.std(axis=1)\n",
    "#FWHM\n",
    "mean_x_width = data_width.mean(axis=0)\n",
    "std_x_width = data_width.std(axis=0)\n",
    "mean_y_width = data_width.mean(axis=1)\n",
    "std_y_width = data_width.std(axis=1)\n",
    "\n",
    "fig,ax = plt.subplots(2,2, figsize=(5,5))\n",
    "ax[0,0].plot(data_shift.columns,mean_x_shift)\n",
    "ax[0,0].fill_between(data_shift.columns,mean_x_shift+std_x_shift/2.0,mean_x_shift-std_x_shift/2.0,alpha=0.3)\n",
    "ax[0,0].set_xlabel(\"x ($\\mu$m)\")\n",
    "ax[0,0].set_ylabel(\"Shift (GHz)\")\n",
    "ax[0,1].plot(mean_y_shift,data_shift.index,color=\"C1\")\n",
    "ax[0,1].fill_betweenx(data_shift.index,mean_y_shift+std_y_shift/2.0,mean_y_shift-std_y_shift/2.0,alpha=0.3,color=\"C1\")\n",
    "ax[0,1].set_xlabel(\"Shift (GHz)\")\n",
    "ax[0,1].set_ylabel(\"y ($\\mu$m)\")\n",
    "\n",
    "ax[1,0].plot(data_width.columns,mean_x_width,color=\"C2\")\n",
    "ax[1,0].fill_between(data_width.columns,mean_x_width+std_x_width/2.0,mean_x_width-std_x_width/2.0,alpha=0.3,color=\"C2\")\n",
    "ax[1,0].set_xlabel(\"x ($\\mu$m)\")\n",
    "ax[1,0].set_ylabel(\"FWHM (GHz)\")\n",
    "ax[1,1].plot(mean_y_width,data_width.index,color=\"C3\")\n",
    "ax[1,1].fill_betweenx(data_width.index,mean_y_width+std_y_width/2.0,mean_y_width-std_y_width/2.0,alpha=0.3,color=\"C3\")\n",
    "ax[1,1].set_xlabel(\"FWHM (GHz)\")\n",
    "ax[1,1].set_ylabel(\"y ($\\mu$m)\")\n",
    "fig.tight_layout()"
   ]
  },
  {
   "cell_type": "markdown",
   "id": "5dec5122",
   "metadata": {},
   "source": [
    "### 5) Run cell below in order to interactively threshold the Brillouin map <br> - Shift\n",
    "Briefly, a simple threshold based on the 2D histogram of the flattened map is used for discriminating between background and object of interest. Plots are automatically updated and the average for both background and object is shown as the threshold is changed. <bk>\n",
    "You can copy and paste those values in Prism in order to run statistics."
   ]
  },
  {
   "cell_type": "code",
   "execution_count": null,
   "id": "f344c906",
   "metadata": {},
   "outputs": [],
   "source": [
    "%matplotlib inline\n",
    "def threshold_image_shift(threshold=6.20):\n",
    "    data_shift = piv[\" Shift (GHz)\"]\n",
    "    back = data_shift[data_shift<threshold]\n",
    "    sph = data_shift[data_shift>threshold]\n",
    "    fig,axs= plt.subplots(1,4,figsize=(15,3))\n",
    "    axs[0].hist(np.array(data_shift).flatten(),bins=\"auto\",color='k')\n",
    "    axs[0].axvline(threshold,color='red')\n",
    "    im1=axs[1].imshow(data_shift,cmap=\"viridis\",extent=[min(datasub[\"X (um)\"]),max(datasub[\"X (um)\"]),min(datasub[\"Y (um)\"]),max(datasub[\"Y (um)\"])])\n",
    "    im2=axs[2].imshow(back,cmap=\"viridis\",extent=[min(datasub[\"X (um)\"]),max(datasub[\"X (um)\"]),min(datasub[\"Y (um)\"]),max(datasub[\"Y (um)\"])])\n",
    "    im3=axs[3].imshow(sph,cmap=\"viridis\",extent=[min(datasub[\"X (um)\"]),max(datasub[\"X (um)\"]),min(datasub[\"Y (um)\"]),max(datasub[\"Y (um)\"])])\n",
    "    all = [im1,im2,im3]\n",
    "    titles = [\"2D histogram\", \"Full map\", \"Background\", \"Object\"]\n",
    "    for i,ax in enumerate(axs):\n",
    "        ax.set_title(titles[i])\n",
    "        ax.grid(False)\n",
    "        if i == 0:\n",
    "            ax.set_ylabel(\"Counts\")\n",
    "            ax.set_xlabel(\"Shift (GHz)\")\n",
    "            #skip color map for histogram\n",
    "            continue\n",
    "        divider = make_axes_locatable(ax)\n",
    "        cax = divider.append_axes('right', size='8%', pad=0.05)\n",
    "        ax.set_xlabel(\"x $(\\mu m)$\")\n",
    "        ax.set_ylabel(\"y $(\\mu m)$\")\n",
    "        plt.colorbar(mappable=all[i-1],ax=axs[i],cax=cax,fraction=0.05,label=\"Shift (GHz)\")\n",
    "    fig.tight_layout()\n",
    "plt.close()\n",
    "threshold_image_interactive_shift= widgets.interactive(threshold_image_shift,threshold=(5,7,0.01))\n",
    "display(threshold_image_interactive_shift)                             "
   ]
  },
  {
   "cell_type": "markdown",
   "id": "572afdac",
   "metadata": {},
   "source": [
    "### 6) Run cell below in order to compute the mean of the background and object <bk> in terms of shift\n",
    "You can then copy and paste those values in any software of preference (e.g., Prism) for statistical tests and furhter plotting!"
   ]
  },
  {
   "cell_type": "code",
   "execution_count": null,
   "id": "17d29f8a",
   "metadata": {
    "scrolled": true,
    "tags": []
   },
   "outputs": [],
   "source": [
    "data_shift = piv[\" Shift (GHz)\"]\n",
    "threshold_shift = threshold_image_interactive_shift.kwargs[\"threshold\"]\n",
    "mean_back_th_shift = np.nanmean(data_shift[data_shift<threshold_image_interactive_shift.kwargs[\"threshold\"]])\n",
    "sd_back_th_shift = np.nanstd(data_shift[data_shift<threshold_image_interactive_shift.kwargs[\"threshold\"]])\n",
    "mean_object_th_shift = np.nanmean(data_shift[data_shift>threshold_image_interactive_shift.kwargs[\"threshold\"]])\n",
    "sd_object_th_shift = np.nanstd(data_shift[data_shift>threshold_image_interactive_shift.kwargs[\"threshold\"]])\n",
    "print(\"Threshold value: {threshold: .2f}\".format(threshold=threshold_shift))\n",
    "print(\"Object's Average Brillouin Shift p/m 1SD (GHz):{mean_object_th_shift: .3f} p/m {sd_object_th_shift:.3f}\".format(mean_object_th_shift=mean_object_th_shift, \n",
    "                                                                                                          sd_object_th_shift=sd_object_th_shift))\n",
    "print(\"Background's Average Brillouin Shift p/m 1SD (GHz):{mean_back_th_shift: .3f} p/m {sd_back_th_shift:.3f}\".format(mean_back_th_shift=mean_back_th_shift,\n",
    "                                                                                                          sd_back_th_shift=sd_back_th_shift))"
   ]
  },
  {
   "cell_type": "markdown",
   "id": "1416a9bb",
   "metadata": {},
   "source": [
    "### 7) Run cell below in order to interactively threshold the Brillouin map <br> - Width\n",
    "Briefly, a simple threshold based on the 2D histogram of the flattened map is used for discriminating between background and object of interest. Plots are automatically updated and the average for both background and object is shown as the threshold is changed. <bk>\n",
    "You can copy and paste those values in Prism in order to run statistics."
   ]
  },
  {
   "cell_type": "code",
   "execution_count": null,
   "id": "19758c8f",
   "metadata": {},
   "outputs": [],
   "source": [
    "%matplotlib inline\n",
    "def threshold_image_width(threshold=0.9):\n",
    "    data_fwhm = piv[\" FWHM (GHz)\"]\n",
    "    back = data_fwhm[data_fwhm<threshold]\n",
    "    sph = data_fwhm[data_fwhm>threshold]\n",
    "    fig,axs= plt.subplots(1,4,figsize=(15,3))\n",
    "    axs[0].hist(np.array(data_fwhm).flatten(),bins=\"auto\",color='k')\n",
    "    axs[0].axvline(threshold,color='red')\n",
    "    im1=axs[1].imshow(data_fwhm,cmap=\"magma\",extent=[min(datasub[\"X (um)\"]),max(datasub[\"X (um)\"]),min(datasub[\"Y (um)\"]),max(datasub[\"Y (um)\"])])\n",
    "    im2=axs[2].imshow(back,cmap=\"magma\",extent=[min(datasub[\"X (um)\"]),max(datasub[\"X (um)\"]),min(datasub[\"Y (um)\"]),max(datasub[\"Y (um)\"])])\n",
    "    im3=axs[3].imshow(sph,cmap=\"magma\",extent=[min(datasub[\"X (um)\"]),max(datasub[\"X (um)\"]),min(datasub[\"Y (um)\"]),max(datasub[\"Y (um)\"])])\n",
    "    all = [im1,im2,im3]\n",
    "    titles = [\"2D histogram\", \"Full map\", \"Background\", \"Object\"]\n",
    "    for i,ax in enumerate(axs):\n",
    "        ax.set_title(titles[i])\n",
    "        ax.grid(False)\n",
    "        if i == 0:\n",
    "            ax.set_ylabel(\"Counts\")\n",
    "            ax.set_xlabel(\" FWHM(GHz)\")\n",
    "            #skip color map for histogram\n",
    "            continue\n",
    "        divider = make_axes_locatable(ax)\n",
    "        cax = divider.append_axes('right', size='8%', pad=0.05)\n",
    "        ax.set_xlabel(\"x $(\\mu m)$\")\n",
    "        ax.set_ylabel(\"y $(\\mu m)$\")\n",
    "        plt.colorbar(mappable=all[i-1],ax=axs[i],cax=cax,fraction=0.05,label=\"FWHM (GHz)\")\n",
    "    fig.tight_layout()\n",
    "plt.close()\n",
    "threshold_image_interactive_width= widgets.interactive(threshold_image_width,threshold=(0,2,0.01))\n",
    "display(threshold_image_interactive_width) "
   ]
  },
  {
   "cell_type": "markdown",
   "id": "d9488295",
   "metadata": {},
   "source": [
    "### 8) Run cell below in order to compute the mean of the background and object <bk> in terms of width\n",
    "You can then copy and paste those values in any software of preference (e.g., Prism) for statistical tests and furhter plotting!"
   ]
  },
  {
   "cell_type": "code",
   "execution_count": null,
   "id": "e783e91b",
   "metadata": {},
   "outputs": [],
   "source": [
    "data_width = piv[\" FWHM (GHz)\"]\n",
    "threshold_width = threshold_image_interactive_width.kwargs[\"threshold\"]\n",
    "mean_back_th_width = np.nanmean(data_width[data_width<threshold_image_interactive_width.kwargs[\"threshold\"]])\n",
    "sd_back_th_width = np.nanstd(data_width[data_width<threshold_image_interactive_width.kwargs[\"threshold\"]])\n",
    "mean_object_th_width = np.nanmean(data_width[data_width>threshold_image_interactive_width.kwargs[\"threshold\"]])\n",
    "sd_object_th_width = np.nanstd(data_width[data_width>threshold_image_interactive_width.kwargs[\"threshold\"]])\n",
    "print(\"Threshold value: {threshold: .2f}\".format(threshold=threshold_width))\n",
    "print(\"Object's Average Brillouin Width p/m 1SD (GHz):{mean_object_th_width: .3f} p/m {sd_object_th_width:.3f}\".format(mean_object_th_width=mean_object_th_width, \n",
    "                                                                                                          sd_object_th_width=sd_object_th_width))\n",
    "print(\"Background's Average Brillouin Width p/m 1SD (GHz):{mean_back_th_width: .3f} p/m {sd_back_th_width:.3f}\".format(mean_back_th_width=mean_back_th_width,\n",
    "                                                                                                          sd_back_th_width=sd_back_th_width))"
   ]
  },
  {
   "cell_type": "markdown",
   "id": "c98d92f4-8540-43e5-ae70-b10b7c62c102",
   "metadata": {},
   "source": [
    "### 9) Run cell below in order to mask the brillouin map based on the bf image mask <bk>\n",
    "\n"
   ]
  },
  {
   "cell_type": "code",
   "execution_count": null,
   "id": "9a690bbf-8b1b-44fc-abb1-cf4ba05c5321",
   "metadata": {},
   "outputs": [],
   "source": [
    "#take only Brillouin map where mask is 1\n",
    "data_shift = piv[\" Shift (GHz)\"]\n",
    "data_width = piv[\" FWHM (GHz)\"]\n",
    "segmented_shift = np.array(data_shift)*object_mask_fiji\n",
    "segmented_width = np.array(data_width)*object_mask_fiji\n",
    "\n",
    "fig,ax = plt.subplots(1,2, figsize=(8,4))\n",
    "segmented_image_shift = ax[0].imshow(segmented_shift,cmap=\"hot\",extent=[min(datasub[\"X (um)\"]),max(datasub[\"X (um)\"]),\n",
    "                                                         min(datasub[\"Y (um)\"]),max(datasub[\"Y (um)\"])])\n",
    "segmented_image_width = ax[1].imshow(segmented_width,cmap=\"hot\",extent=[min(datasub[\"X (um)\"]),max(datasub[\"X (um)\"]),\n",
    "                                                          min(datasub[\"Y (um)\"]),max(datasub[\"Y (um)\"])])\n",
    "labels = [\"Shift (GHz)\",\"FWHM (GHz)\"]\n",
    "for i in ax:\n",
    "    i.set_xlabel(\"x ($\\mu$m)\")\n",
    "    i.set_ylabel(\"y ($\\mu$m)\")\n",
    "    divider = make_axes_locatable(i)\n",
    "    cax = divider.append_axes('right', size='8%', pad=0.05)\n",
    "    plt.colorbar(mappable=i.get_images()[0],ax=i,cax=cax,fraction=0.05,label=labels[ax.tolist().index(i)])\n",
    "fig.tight_layout()\n",
    "#select only relevant Brillouin pixels\n",
    "brillouin_object_shift = segmented_shift[segmented_shift>0]\n",
    "mean_brillouin_object_shift = np.mean(brillouin_object_shift)\n",
    "std_brillouin_object_shift = np.std(brillouin_object_shift)\n",
    "brillouin_object_width = segmented_width[segmented_width>0]\n",
    "mean_brillouin_object_width = np.mean(brillouin_object_width)\n",
    "std_brillouin_object_width = np.std(brillouin_object_width)\n",
    "print(\"Object's Average Brillouin Shift p/m 1SD (GHz):{mean_brillouin_object_shift: .3f} p/m {std_brillouin_object_shift:.3f}\".format(mean_brillouin_object_shift=mean_brillouin_object_shift,\n",
    "                                                                                                                                      std_brillouin_object_shift=std_brillouin_object_shift))\n",
    "print(\"Object's Average Brillouin Width p/m 1SD (GHz):{mean_brillouin_object_width: .3f} p/m {std_brillouin_object_width:.3f}\".format(mean_brillouin_object_width=mean_brillouin_object_width,\n",
    "                                                                                                                                      std_brillouin_object_width=std_brillouin_object_width))"
   ]
  },
  {
   "cell_type": "markdown",
   "id": "11fae65d-7509-49d3-a133-e78bb9f14b16",
   "metadata": {
    "tags": []
   },
   "source": [
    "### 10) And... Run the two cells below if you want a .tsv file with individual values from object and background in terms of shift, width\n",
    "The file can be opened in Excel, and used for further analysis!"
   ]
  },
  {
   "cell_type": "code",
   "execution_count": null,
   "id": "03a458ad-a999-4680-99a9-832dbe76ca3a",
   "metadata": {},
   "outputs": [],
   "source": [
    "data = pd.read_csv(fc.selected)\n",
    "##print(data)\n",
    "shift = data[\" Shift (GHz)\"]\n",
    "width = data[\" FWHM (GHz)\"]\n",
    "shift = clean_df(shift)\n",
    "width = clean_df(width)\n",
    "\n",
    "fw_shift = shift[shift>threshold_image_interactive_shift.kwargs[\"threshold\"]] #object\n",
    "bk_shift = shift[shift<threshold_image_interactive_shift.kwargs[\"threshold\"]] #background\n",
    "fw_width = width[width>threshold_image_interactive_width.kwargs[\"threshold\"]] #object\n",
    "bk_width = width[width<threshold_image_interactive_width.kwargs[\"threshold\"]] #background\n",
    "#need to check definition of loss tangent - is the 4*pi factor correct?\n",
    "fw_loss_tangent = (4 * np.pi) * (fw_width / fw_shift) \n",
    "bk_loss_tangent = (4 * np.pi) * (bk_width / bk_shift)\n",
    "object_loss_tangent = (4 * np.pi) * (brillouin_object_width / brillouin_object_shift)\n",
    "\n",
    "data = {\"Background Shift (GHz)\": bk_shift, \"Object Shift (GHz)\": fw_shift, \"Masked object Shift (GHz)\": pd.Series(brillouin_object_shift),\n",
    "        \"Background Width (GHz)\": bk_width, \"Object Width (GHz)\": fw_width, \"Masked object Width (GHz)\": pd.Series(brillouin_object_width),\n",
    "        \"Background Loss Tangent\": bk_loss_tangent, \"Object Loss Tangent\": fw_loss_tangent, \"Masked object Loss Tangent\": pd.Series(object_loss_tangent)}\n",
    "\n",
    "df = pd.DataFrame(data=data)\n",
    "\n",
    "samplenamew=widgets.Text(placeholder='Please enter the sample name',disabled=False)\n",
    "\n",
    "namebox=widgets.HBox([widgets.Label(value=\"Sample Name:\"), samplenamew])\n",
    "display(namebox)\n",
    "\n",
    "savedir=widgets.Text(\n",
    "    placeholder='Please enter saving directory',\n",
    "    disabled=False\n",
    ")\n",
    "\n",
    "savebox=widgets.HBox([widgets.Label(value=\"Saving directory:\"), savedir])\n",
    "display(savebox)\n"
   ]
  },
  {
   "cell_type": "code",
   "execution_count": null,
   "id": "cfd6d1a4-6cc8-48e4-9828-5e8f26ee89ee",
   "metadata": {},
   "outputs": [],
   "source": [
    "fname=savedir.value+\"/\"+samplenamew.value+\".tsv\"\n",
    "with open(fname, 'w') as f:\n",
    "    f.write(\"Background Shift (GHz) \\t Object Shift (GHz) \\t Masked Object Shift (GHz) \\t Background Width (GHz) \\t Object Width (GHz) \\t Masked Object Width (GHz)\\t Background Loss Tangent \\t Object Loss Tangent \\t Masked Object Loss Tangent\\n\")\n",
    "    for x in zip_longest(*[bk_shift, fw_shift, brillouin_object_shift, bk_width, fw_width, brillouin_object_width, bk_loss_tangent, fw_loss_tangent, object_loss_tangent]):\n",
    "        f.write(\"{0}\\t{1}\\t{2}\\t{3}\\t{4}\\t{5}\\t{6}\\t{7}\\t{8}\\n\".format(*x))"
   ]
  },
  {
   "cell_type": "code",
   "execution_count": null,
   "id": "470d7ef1-650c-4e0f-a998-26f4aa4a451b",
   "metadata": {},
   "outputs": [],
   "source": []
  }
 ],
 "metadata": {
  "kernelspec": {
   "display_name": "Python 3 (ipykernel)",
   "language": "python",
   "name": "python3"
  },
  "language_info": {
   "codemirror_mode": {
    "name": "ipython",
    "version": 3
   },
   "file_extension": ".py",
   "mimetype": "text/x-python",
   "name": "python",
   "nbconvert_exporter": "python",
   "pygments_lexer": "ipython3",
   "version": "3.10.4"
  },
  "vscode": {
   "interpreter": {
    "hash": "84b25d0415491253f03f694f57af598572a98abd3b82a154133d6b656667b885"
   }
  }
 },
 "nbformat": 4,
 "nbformat_minor": 5
}

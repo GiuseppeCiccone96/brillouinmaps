{
 "cells": [
  {
   "cell_type": "code",
   "execution_count": null,
   "id": "ed4d75e8",
   "metadata": {
    "tags": []
   },
   "outputs": [],
   "source": [
    "import numpy as np \n",
    "%matplotlib ipympl \n",
    "import matplotlib as mpl\n",
    "import matplotlib.pyplot as plt\n",
    "import matplotlib.cm as cm\n",
    "from mpl_toolkits.axes_grid1 import make_axes_locatable\n",
    "from mpl_interactions import image_segmenter\n",
    "import ipywidgets as widgets\n",
    "from ipyfilechooser import FileChooser\n",
    "import pandas as pd\n",
    "import os\n",
    "import warnings\n",
    "from itertools import zip_longest\n",
    "warnings.filterwarnings('ignore')"
   ]
  },
  {
   "cell_type": "markdown",
   "id": "7cd23e70-ffb3-46e4-9189-f9096d586938",
   "metadata": {},
   "source": [
    "## Preamble: Useful functions (to run)"
   ]
  },
  {
   "cell_type": "code",
   "execution_count": null,
   "id": "94977456-6b08-424c-a0fe-c59212f54b7d",
   "metadata": {},
   "outputs": [],
   "source": [
    "def clean_df(df): \n",
    "    \"\"\"Makes sure that df elements are floats and replaces\n",
    "    inf with nan for easier data manipulation.\"\"\"\n",
    "    a = df.astype(float).replace([-np.inf,+np.inf],np.nan)\n",
    "    return a"
   ]
  },
  {
   "cell_type": "markdown",
   "id": "711b886a",
   "metadata": {},
   "source": [
    "# Introduction\n",
    "This notebook allows to visualise and manipulate Brillouin Spectroscopy maps (in terms of frequency shift, $\\nu_B$) acquired and processed using the light machinery set-up (https://lightmachinery.com/). In brief, the \"Scan_Parameters_and_Analysis.csv\" file is first imported and manipulated so that the Brillouin map ($\\nu_B$) can be shown as a color map with appropriate $x$ and $y$ coordinates. Then, $\\nu_B$ profiles are shown along both $x$ and $y$ as line plots. Finally, the possibility to isolate the background from the objects of interest (e.g., cells, spheroids etc) is given using a simple threshold (main branch) or by manual segmentation; and the average of both background and/or object can be computed and saved. <br> \n",
    "The notebook has been made interactive via widgets to be more user friendly. A step by step workflow is summarised below: "
   ]
  },
  {
   "cell_type": "markdown",
   "id": "c943c938",
   "metadata": {},
   "source": [
    "### 1) Run cell below to upload the  \"Scan_Parameters_and_Analysis.csv\" file "
   ]
  },
  {
   "cell_type": "code",
   "execution_count": null,
   "id": "1bc6b1cf",
   "metadata": {},
   "outputs": [],
   "source": [
    "fc = FileChooser()\n",
    "display(fc)"
   ]
  },
  {
   "cell_type": "markdown",
   "id": "6eef37e3-63af-4606-9ec5-5f859a981ae2",
   "metadata": {
    "tags": []
   },
   "source": [
    "### 2) Run cells below to clean data\n",
    "Because the \"Scan_parameters_and_Analysis.csv\" file contains processed data from the light machinery acquisition software (i.e., frequency shift and full width half maximum obtained by fitting spectra with a Lorentzian), we need to clean some data originating from failed fits. These include NaN, infinity and outlier values.\n",
    "The clean_df function transorms infinity values into nans, which can be handled by most functions. However,\n",
    "specific outliers values are difficult to remove (maps are usually composed of two objects - background and spheroid). Because of this, the cells below ask you whether your data contains outliers (obvious from the 2d map) and if yes, you can selct a range of frequencies of interest where most data lies. An example of a map with one outlier skewing all the data is shown below: \n",
    "<center><img src=images/outliers.png  width=40% height=40%>"
   ]
  },
  {
   "cell_type": "markdown",
   "id": "2011819e-772b-441a-9549-a14fff15e364",
   "metadata": {},
   "source": [
    "The cell below will display the acquired map. If you think the map looks suspicious (i.e., contains outliers), select \"Yes\" below and then choose a range of frequencies you want to restric your data in based on its 2D histogram. If the map looks ok, then the origianl data will be used!"
   ]
  },
  {
   "cell_type": "code",
   "execution_count": null,
   "id": "9069dbec-6c86-4f21-8481-e517ba4e98cb",
   "metadata": {},
   "outputs": [],
   "source": [
    "#Read data and create sub-data frame with X, Y and Shift; add columns in um (from mm)\n",
    "data = pd.read_csv(fc.selected)\n",
    "datasub = data[[\" X (mm)\", \" Y (mm)\", \" Shift (GHz)\"]]\n",
    "datasub[\"X (um)\"]=datasub.iloc[:,0]* 1000.0\n",
    "datasub[\"Y (um)\"]=datasub.iloc[:,1]* 1000.0\n",
    "#Pivot sub-data frame so that it can be plotted as a map with correct x and y coordinates\n",
    "piv=datasub.pivot(index = \"Y (um)\",columns=\"X (um)\",values=\" Shift (GHz)\")\n",
    "piv=clean_df(piv)\n",
    "fig,ax = plt.subplots(1,1, figsize=(4,4))\n",
    "im = ax.imshow(piv,cmap=\"jet\",extent=[min(datasub[\"X (um)\"]),max(datasub[\"X (um)\"]),min(datasub[\"Y (um)\"]),max(datasub[\"Y (um)\"])])\n",
    "ax.set_xlabel(\"x ($\\mu$m)\")\n",
    "ax.set_ylabel(\"y ($\\mu$m)\")\n",
    "divider = make_axes_locatable(ax)\n",
    "cax = divider.append_axes('right', size='8%', pad=0.05)\n",
    "plt.colorbar(mappable=im,ax=ax,cax=cax,fraction=0.05,label=r\"$\\nu_B$ (GHz)\")\n",
    "fig.tight_layout()\n",
    "ax.grid(False)\n",
    "plt.show()"
   ]
  },
  {
   "cell_type": "code",
   "execution_count": null,
   "id": "167dcdc6-baff-4c30-916a-e40951659d4d",
   "metadata": {},
   "outputs": [],
   "source": [
    "outliersw = widgets.Dropdown(\n",
    "    options=[('Yes', True), ('No', False)],\n",
    "    value=False,\n",
    "    description='Outliers?:',\n",
    ")\n",
    "display(outliersw)"
   ]
  },
  {
   "cell_type": "code",
   "execution_count": null,
   "id": "df38460f-13e9-47f1-96a7-f4ee1a82cfcd",
   "metadata": {},
   "outputs": [],
   "source": [
    "def screen_outliers(v_min=5.9,v_max=6.5):\n",
    "    fig,axs = plt.subplots(1,2, figsize=(10,5))\n",
    "    cond = ((piv > v_min) & (piv < v_max))\n",
    "    axs[0].hist(np.array(piv[cond]).flatten(),bins=\"auto\")\n",
    "    axs[0].axvline(v_min,c='r')\n",
    "    axs[0].axvline(v_max,c='r')\n",
    "    im1=axs[1].imshow(piv[cond],cmap=\"jet\",extent=[min(datasub[\"X (um)\"]),max(datasub[\"X (um)\"]),min(datasub[\"Y (um)\"]),max(datasub[\"Y (um)\"])])\n",
    "    titles = [\"2D histogram\",\"Image\"]\n",
    "    for i,ax in enumerate(axs):\n",
    "        ax.set_title(titles[i])\n",
    "        ax.grid(False)\n",
    "        if i == 0:\n",
    "            ax.set_ylabel(\"Counts\")\n",
    "            ax.set_xlabel(r\"$\\nu_B$ (GHz)\")\n",
    "            #skip color map for histogram\n",
    "            continue\n",
    "        divider = make_axes_locatable(ax)\n",
    "        cax = divider.append_axes('right', size='8%', pad=0.05)\n",
    "        ax.set_xlabel(\"x $(\\mu m)$\")\n",
    "        ax.set_ylabel(\"y $(\\mu m)$\")\n",
    "        plt.colorbar(mappable=im1,ax=axs[1],cax=cax,fraction=0.05,label=r\"$\\nu_B$ (GHz)\")\n",
    "    fig.tight_layout()\n",
    "if outliersw.value is True: \n",
    "    screen_outliers_interactive= widgets.interactive(screen_outliers,v_min=(0,6.5,0.1),v_max=(5,8,0.1))\n",
    "    display(screen_outliers_interactive)\n",
    "    v_min_cond = screen_outliers_interactive.kwargs[\"v_min\"]\n",
    "    v_max_cond = screen_outliers_interactive.kwargs[\"v_max\"]\n",
    "    piv = piv[((piv>v_min_cond) & (piv<v_max_cond))]\n",
    "else:\n",
    "    piv = piv "
   ]
  },
  {
   "cell_type": "markdown",
   "id": "ea6bedbe",
   "metadata": {},
   "source": [
    "### 2) Run cell below to display cleaned Brillouin map "
   ]
  },
  {
   "cell_type": "code",
   "execution_count": null,
   "id": "27893c69",
   "metadata": {},
   "outputs": [],
   "source": [
    "fig,ax = plt.subplots(1,1, figsize=(4,4))\n",
    "im = ax.imshow(piv,cmap=\"jet\",extent=[min(datasub[\"X (um)\"]),max(datasub[\"X (um)\"]),min(datasub[\"Y (um)\"]),max(datasub[\"Y (um)\"])])\n",
    "ax.set_xlabel(\"x ($\\mu$m)\")\n",
    "ax.set_ylabel(\"y ($\\mu$m)\")\n",
    "divider = make_axes_locatable(ax)\n",
    "cax = divider.append_axes('right', size='8%', pad=0.05)\n",
    "plt.colorbar(mappable=im,ax=ax,cax=cax,fraction=0.05,label=r\"$\\nu_B$ (GHz)\")\n",
    "fig.tight_layout()\n",
    "ax.grid(False)\n",
    "plt.show()"
   ]
  },
  {
   "cell_type": "markdown",
   "id": "3c807686",
   "metadata": {},
   "source": [
    "### 3) Run cell below to display line profiles along x and  y"
   ]
  },
  {
   "cell_type": "code",
   "execution_count": null,
   "id": "b679dc74",
   "metadata": {},
   "outputs": [],
   "source": [
    "#Plot profiles along X and Y\n",
    "fig, axs = plt.subplots(1,2,figsize=(12,4))\n",
    "color = cm.jet(np.linspace(0,20,len(datasub[\"Y (um)\"])))\n",
    "for i,y in enumerate(piv.index):\n",
    "    axs[0].plot(piv.columns,piv.loc[y,:],color=color[i],label=\"y = \" +str(y)+ \" um\")\n",
    "axs[0].legend(loc='upper right', bbox_to_anchor=(1.5, 1))\n",
    "axs[0].set_xlabel(\"x ($\\mu$m)\")\n",
    "\n",
    "color = cm.jet(np.linspace(0,20,len(datasub[\"X (um)\"])))\n",
    "for i,x in enumerate(piv.columns):\n",
    "    axs[1].plot(piv.index,piv.loc[:,x],color=color[i],label=\"x = \" +str(y)+ \" um\")\n",
    "axs[1].legend(loc='upper right', bbox_to_anchor=(1.5, 1))\n",
    "axs[1].set_xlabel(\"y ($\\mu$m)\")\n",
    "\n",
    "for ax in axs: \n",
    "    ax.set_ylabel(r\"$\\nu_B$ (GHz)\")\n",
    "    ax.grid(False)\n",
    "fig.tight_layout()\n",
    "plt.show()"
   ]
  },
  {
   "cell_type": "markdown",
   "id": "5dec5122",
   "metadata": {},
   "source": [
    "### 4) Run cell below in order to segment the Brillouin map <br> "
   ]
  },
  {
   "cell_type": "code",
   "execution_count": null,
   "id": "f344c906",
   "metadata": {},
   "outputs": [],
   "source": [
    "segmenter = image_segmenter(np.array(piv),cmap=\"jet\", mask_colors=\"red\", lineprops={\"color\": \"black\", \"linewidth\": 2, \"alpha\":1 },\n",
    "                            mask_alpha=0.6, figsize=(5, 5))\n",
    "display(segmenter)                      "
   ]
  },
  {
   "cell_type": "markdown",
   "id": "168f12dd-b613-4076-aab8-b35ad98708a6",
   "metadata": {},
   "source": [
    "And print the mean and std of the semgneted object:"
   ]
  },
  {
   "cell_type": "code",
   "execution_count": 1,
   "id": "d0fb6718-9aec-4144-8610-81fff0bd415c",
   "metadata": {},
   "outputs": [
    {
     "ename": "NameError",
     "evalue": "name 'np' is not defined",
     "output_type": "error",
     "traceback": [
      "\u001b[0;31m---------------------------------------------------------------------------\u001b[0m",
      "\u001b[0;31mNameError\u001b[0m                                 Traceback (most recent call last)",
      "Input \u001b[0;32mIn [1]\u001b[0m, in \u001b[0;36m<cell line: 1>\u001b[0;34m()\u001b[0m\n\u001b[0;32m----> 1\u001b[0m pivarr \u001b[38;5;241m=\u001b[39m \u001b[43mnp\u001b[49m\u001b[38;5;241m.\u001b[39marray(piv)\n\u001b[1;32m      2\u001b[0m \u001b[38;5;66;03m#segmenter.mask contains floats. To use it as a mask, it needs to contain integers (or booleans) \u001b[39;00m\n\u001b[1;32m      3\u001b[0m usable_mask \u001b[38;5;241m=\u001b[39m segmenter\u001b[38;5;241m.\u001b[39mmask\u001b[38;5;241m.\u001b[39mastype(\u001b[38;5;28mbool\u001b[39m)\n",
      "\u001b[0;31mNameError\u001b[0m: name 'np' is not defined"
     ]
    }
   ],
   "source": [
    "pivarr = np.array(piv)\n",
    "#segmenter.mask contains floats. To use it as a mask, it needs to contain integers (or booleans) \n",
    "usable_mask = segmenter.mask.astype(bool)\n",
    "cell = pivarr[usable_mask]\n",
    "avg_cell = np.mean(cell)\n",
    "std_cell = np.std(cell)\n",
    "print(\"Object's Average BrillouinShift p/m 1SD (GHz):{mean_object: .3f} p/m {sd_object:.3f}\".format(mean_object=avg_cell, sd_object=std_cell))"
   ]
  },
  {
   "cell_type": "code",
   "execution_count": null,
   "id": "2fbd291d-a8df-4236-9660-dc8fddcf6052",
   "metadata": {},
   "outputs": [],
   "source": []
  }
 ],
 "metadata": {
  "kernelspec": {
   "display_name": "Python 3 (ipykernel)",
   "language": "python",
   "name": "python3"
  },
  "language_info": {
   "codemirror_mode": {
    "name": "ipython",
    "version": 3
   },
   "file_extension": ".py",
   "mimetype": "text/x-python",
   "name": "python",
   "nbconvert_exporter": "python",
   "pygments_lexer": "ipython3",
   "version": "3.10.4"
  },
  "vscode": {
   "interpreter": {
    "hash": "84b25d0415491253f03f694f57af598572a98abd3b82a154133d6b656667b885"
   }
  }
 },
 "nbformat": 4,
 "nbformat_minor": 5
}
